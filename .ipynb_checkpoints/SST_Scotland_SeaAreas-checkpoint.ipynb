{
 "cells": [
  {
   "cell_type": "code",
   "execution_count": 1,
   "metadata": {},
   "outputs": [],
   "source": [
    "import pandas as pd\n",
    "import matplotlib.pyplot as plt"
   ]
  },
  {
   "cell_type": "code",
   "execution_count": 2,
   "metadata": {},
   "outputs": [],
   "source": [
    "file = './resources/MonthlyAverageSeaSurfaceTemperatureFor13ScottishSeaAreas.csv'\n",
    "df = pd.read_csv(file)"
   ]
  },
  {
   "cell_type": "code",
   "execution_count": 9,
   "metadata": {},
   "outputs": [
    {
     "data": {
      "text/html": [
       "<div>\n",
       "<style scoped>\n",
       "    .dataframe tbody tr th:only-of-type {\n",
       "        vertical-align: middle;\n",
       "    }\n",
       "\n",
       "    .dataframe tbody tr th {\n",
       "        vertical-align: top;\n",
       "    }\n",
       "\n",
       "    .dataframe thead th {\n",
       "        text-align: right;\n",
       "    }\n",
       "</style>\n",
       "<table border=\"1\" class=\"dataframe\">\n",
       "  <thead>\n",
       "    <tr style=\"text-align: right;\">\n",
       "      <th></th>\n",
       "      <th>Year</th>\n",
       "      <th>Month</th>\n",
       "      <th>Decimal Year</th>\n",
       "      <th>Figure Reference</th>\n",
       "      <th>Sea_Area</th>\n",
       "      <th>Monthly_Average_Sea_Surface_Temperature_degrees_C</th>\n",
       "    </tr>\n",
       "  </thead>\n",
       "  <tbody>\n",
       "    <tr>\n",
       "      <th>0</th>\n",
       "      <td>1997</td>\n",
       "      <td>1</td>\n",
       "      <td>1997.00</td>\n",
       "      <td>Figure 4.12</td>\n",
       "      <td>Clyde</td>\n",
       "      <td>7.48</td>\n",
       "    </tr>\n",
       "    <tr>\n",
       "      <th>1</th>\n",
       "      <td>1997</td>\n",
       "      <td>2</td>\n",
       "      <td>1997.08</td>\n",
       "      <td>Figure 4.12</td>\n",
       "      <td>Clyde</td>\n",
       "      <td>7.26</td>\n",
       "    </tr>\n",
       "    <tr>\n",
       "      <th>2</th>\n",
       "      <td>1997</td>\n",
       "      <td>3</td>\n",
       "      <td>1997.17</td>\n",
       "      <td>Figure 4.12</td>\n",
       "      <td>Clyde</td>\n",
       "      <td>7.40</td>\n",
       "    </tr>\n",
       "    <tr>\n",
       "      <th>3</th>\n",
       "      <td>1997</td>\n",
       "      <td>4</td>\n",
       "      <td>1997.25</td>\n",
       "      <td>Figure 4.12</td>\n",
       "      <td>Clyde</td>\n",
       "      <td>8.61</td>\n",
       "    </tr>\n",
       "    <tr>\n",
       "      <th>4</th>\n",
       "      <td>1997</td>\n",
       "      <td>5</td>\n",
       "      <td>1997.33</td>\n",
       "      <td>Figure 4.12</td>\n",
       "      <td>Clyde</td>\n",
       "      <td>10.17</td>\n",
       "    </tr>\n",
       "    <tr>\n",
       "      <th>...</th>\n",
       "      <td>...</td>\n",
       "      <td>...</td>\n",
       "      <td>...</td>\n",
       "      <td>...</td>\n",
       "      <td>...</td>\n",
       "      <td>...</td>\n",
       "    </tr>\n",
       "    <tr>\n",
       "      <th>2647</th>\n",
       "      <td>2013</td>\n",
       "      <td>8</td>\n",
       "      <td>2013.58</td>\n",
       "      <td>Figure 4.12</td>\n",
       "      <td>East Scotland Coast</td>\n",
       "      <td>15.17</td>\n",
       "    </tr>\n",
       "    <tr>\n",
       "      <th>2648</th>\n",
       "      <td>2013</td>\n",
       "      <td>9</td>\n",
       "      <td>2013.67</td>\n",
       "      <td>Figure 4.12</td>\n",
       "      <td>East Scotland Coast</td>\n",
       "      <td>13.22</td>\n",
       "    </tr>\n",
       "    <tr>\n",
       "      <th>2649</th>\n",
       "      <td>2013</td>\n",
       "      <td>10</td>\n",
       "      <td>2013.75</td>\n",
       "      <td>Figure 4.12</td>\n",
       "      <td>East Scotland Coast</td>\n",
       "      <td>11.94</td>\n",
       "    </tr>\n",
       "    <tr>\n",
       "      <th>2650</th>\n",
       "      <td>2013</td>\n",
       "      <td>11</td>\n",
       "      <td>2013.83</td>\n",
       "      <td>Figure 4.12</td>\n",
       "      <td>East Scotland Coast</td>\n",
       "      <td>10.60</td>\n",
       "    </tr>\n",
       "    <tr>\n",
       "      <th>2651</th>\n",
       "      <td>2013</td>\n",
       "      <td>12</td>\n",
       "      <td>2013.92</td>\n",
       "      <td>Figure 4.12</td>\n",
       "      <td>East Scotland Coast</td>\n",
       "      <td>9.31</td>\n",
       "    </tr>\n",
       "  </tbody>\n",
       "</table>\n",
       "<p>2652 rows × 6 columns</p>\n",
       "</div>"
      ],
      "text/plain": [
       "      Year  Month  Decimal Year Figure Reference             Sea_Area  \\\n",
       "0     1997      1       1997.00      Figure 4.12                Clyde   \n",
       "1     1997      2       1997.08      Figure 4.12                Clyde   \n",
       "2     1997      3       1997.17      Figure 4.12                Clyde   \n",
       "3     1997      4       1997.25      Figure 4.12                Clyde   \n",
       "4     1997      5       1997.33      Figure 4.12                Clyde   \n",
       "...    ...    ...           ...              ...                  ...   \n",
       "2647  2013      8       2013.58      Figure 4.12  East Scotland Coast   \n",
       "2648  2013      9       2013.67      Figure 4.12  East Scotland Coast   \n",
       "2649  2013     10       2013.75      Figure 4.12  East Scotland Coast   \n",
       "2650  2013     11       2013.83      Figure 4.12  East Scotland Coast   \n",
       "2651  2013     12       2013.92      Figure 4.12  East Scotland Coast   \n",
       "\n",
       "      Monthly_Average_Sea_Surface_Temperature_degrees_C  \n",
       "0                                                  7.48  \n",
       "1                                                  7.26  \n",
       "2                                                  7.40  \n",
       "3                                                  8.61  \n",
       "4                                                 10.17  \n",
       "...                                                 ...  \n",
       "2647                                              15.17  \n",
       "2648                                              13.22  \n",
       "2649                                              11.94  \n",
       "2650                                              10.60  \n",
       "2651                                               9.31  \n",
       "\n",
       "[2652 rows x 6 columns]"
      ]
     },
     "execution_count": 9,
     "metadata": {},
     "output_type": "execute_result"
    }
   ],
   "source": [
    "df"
   ]
  },
  {
   "cell_type": "code",
   "execution_count": 3,
   "metadata": {},
   "outputs": [
    {
     "data": {
      "text/plain": [
       "array(['Clyde', 'Minches and Malin Sea', 'Hebrides', 'Rockall', 'Bailey',\n",
       "       'Faroe Shetland Channel', 'North Scotland Coast', 'West Shetland',\n",
       "       'East Shetland', 'Fladen', 'Moray Firth', 'Forties',\n",
       "       'East Scotland Coast'], dtype=object)"
      ]
     },
     "execution_count": 3,
     "metadata": {},
     "output_type": "execute_result"
    }
   ],
   "source": [
    "df.Sea_Area.unique() #the 13 major scottish sea areas "
   ]
  },
  {
   "cell_type": "code",
   "execution_count": 4,
   "metadata": {},
   "outputs": [],
   "source": [
    "sea_dfs = [] # sea_dfs is a collection of dataframes for each Sea Area\n",
    "for area in df.Sea_Area.unique(): # sea_df[area] corresponds to df.Sea_Area.unique()[area] \n",
    "    sea_dfs.append(df.loc[df['Sea_Area'] == area]) "
   ]
  },
  {
   "cell_type": "code",
   "execution_count": 11,
   "metadata": {},
   "outputs": [],
   "source": [
    "# example below"
   ]
  },
  {
   "cell_type": "code",
   "execution_count": 19,
   "metadata": {},
   "outputs": [
    {
     "data": {
      "text/html": [
       "<div>\n",
       "<style scoped>\n",
       "    .dataframe tbody tr th:only-of-type {\n",
       "        vertical-align: middle;\n",
       "    }\n",
       "\n",
       "    .dataframe tbody tr th {\n",
       "        vertical-align: top;\n",
       "    }\n",
       "\n",
       "    .dataframe thead th {\n",
       "        text-align: right;\n",
       "    }\n",
       "</style>\n",
       "<table border=\"1\" class=\"dataframe\">\n",
       "  <thead>\n",
       "    <tr style=\"text-align: right;\">\n",
       "      <th></th>\n",
       "      <th>Year</th>\n",
       "      <th>Month</th>\n",
       "      <th>Decimal Year</th>\n",
       "      <th>Figure Reference</th>\n",
       "      <th>Sea_Area</th>\n",
       "      <th>Monthly_Average_Sea_Surface_Temperature_degrees_C</th>\n",
       "    </tr>\n",
       "  </thead>\n",
       "  <tbody>\n",
       "    <tr>\n",
       "      <th>0</th>\n",
       "      <td>1997</td>\n",
       "      <td>1</td>\n",
       "      <td>1997.00</td>\n",
       "      <td>Figure 4.12</td>\n",
       "      <td>Clyde</td>\n",
       "      <td>7.48</td>\n",
       "    </tr>\n",
       "    <tr>\n",
       "      <th>1</th>\n",
       "      <td>1997</td>\n",
       "      <td>2</td>\n",
       "      <td>1997.08</td>\n",
       "      <td>Figure 4.12</td>\n",
       "      <td>Clyde</td>\n",
       "      <td>7.26</td>\n",
       "    </tr>\n",
       "    <tr>\n",
       "      <th>2</th>\n",
       "      <td>1997</td>\n",
       "      <td>3</td>\n",
       "      <td>1997.17</td>\n",
       "      <td>Figure 4.12</td>\n",
       "      <td>Clyde</td>\n",
       "      <td>7.40</td>\n",
       "    </tr>\n",
       "    <tr>\n",
       "      <th>3</th>\n",
       "      <td>1997</td>\n",
       "      <td>4</td>\n",
       "      <td>1997.25</td>\n",
       "      <td>Figure 4.12</td>\n",
       "      <td>Clyde</td>\n",
       "      <td>8.61</td>\n",
       "    </tr>\n",
       "    <tr>\n",
       "      <th>4</th>\n",
       "      <td>1997</td>\n",
       "      <td>5</td>\n",
       "      <td>1997.33</td>\n",
       "      <td>Figure 4.12</td>\n",
       "      <td>Clyde</td>\n",
       "      <td>10.17</td>\n",
       "    </tr>\n",
       "    <tr>\n",
       "      <th>...</th>\n",
       "      <td>...</td>\n",
       "      <td>...</td>\n",
       "      <td>...</td>\n",
       "      <td>...</td>\n",
       "      <td>...</td>\n",
       "      <td>...</td>\n",
       "    </tr>\n",
       "    <tr>\n",
       "      <th>199</th>\n",
       "      <td>2013</td>\n",
       "      <td>8</td>\n",
       "      <td>2013.58</td>\n",
       "      <td>Figure 4.12</td>\n",
       "      <td>Clyde</td>\n",
       "      <td>15.11</td>\n",
       "    </tr>\n",
       "    <tr>\n",
       "      <th>200</th>\n",
       "      <td>2013</td>\n",
       "      <td>9</td>\n",
       "      <td>2013.67</td>\n",
       "      <td>Figure 4.12</td>\n",
       "      <td>Clyde</td>\n",
       "      <td>14.34</td>\n",
       "    </tr>\n",
       "    <tr>\n",
       "      <th>201</th>\n",
       "      <td>2013</td>\n",
       "      <td>10</td>\n",
       "      <td>2013.75</td>\n",
       "      <td>Figure 4.12</td>\n",
       "      <td>Clyde</td>\n",
       "      <td>13.74</td>\n",
       "    </tr>\n",
       "    <tr>\n",
       "      <th>202</th>\n",
       "      <td>2013</td>\n",
       "      <td>11</td>\n",
       "      <td>2013.83</td>\n",
       "      <td>Figure 4.12</td>\n",
       "      <td>Clyde</td>\n",
       "      <td>11.90</td>\n",
       "    </tr>\n",
       "    <tr>\n",
       "      <th>203</th>\n",
       "      <td>2013</td>\n",
       "      <td>12</td>\n",
       "      <td>2013.92</td>\n",
       "      <td>Figure 4.12</td>\n",
       "      <td>Clyde</td>\n",
       "      <td>10.08</td>\n",
       "    </tr>\n",
       "  </tbody>\n",
       "</table>\n",
       "<p>204 rows × 6 columns</p>\n",
       "</div>"
      ],
      "text/plain": [
       "     Year  Month  Decimal Year Figure Reference Sea_Area  \\\n",
       "0    1997      1       1997.00      Figure 4.12    Clyde   \n",
       "1    1997      2       1997.08      Figure 4.12    Clyde   \n",
       "2    1997      3       1997.17      Figure 4.12    Clyde   \n",
       "3    1997      4       1997.25      Figure 4.12    Clyde   \n",
       "4    1997      5       1997.33      Figure 4.12    Clyde   \n",
       "..    ...    ...           ...              ...      ...   \n",
       "199  2013      8       2013.58      Figure 4.12    Clyde   \n",
       "200  2013      9       2013.67      Figure 4.12    Clyde   \n",
       "201  2013     10       2013.75      Figure 4.12    Clyde   \n",
       "202  2013     11       2013.83      Figure 4.12    Clyde   \n",
       "203  2013     12       2013.92      Figure 4.12    Clyde   \n",
       "\n",
       "     Monthly_Average_Sea_Surface_Temperature_degrees_C  \n",
       "0                                                 7.48  \n",
       "1                                                 7.26  \n",
       "2                                                 7.40  \n",
       "3                                                 8.61  \n",
       "4                                                10.17  \n",
       "..                                                 ...  \n",
       "199                                              15.11  \n",
       "200                                              14.34  \n",
       "201                                              13.74  \n",
       "202                                              11.90  \n",
       "203                                              10.08  \n",
       "\n",
       "[204 rows x 6 columns]"
      ]
     },
     "execution_count": 19,
     "metadata": {},
     "output_type": "execute_result"
    }
   ],
   "source": [
    "sea_dfs[0] #Clyde Sea Area DataFrame"
   ]
  },
  {
   "cell_type": "code",
   "execution_count": 21,
   "metadata": {},
   "outputs": [
    {
     "data": {
      "text/plain": [
       "<matplotlib.axes._subplots.AxesSubplot at 0x228f605ad88>"
      ]
     },
     "execution_count": 21,
     "metadata": {},
     "output_type": "execute_result"
    },
    {
     "data": {
      "image/png": "[encoded data removed]",
      "text/plain": [
       "<Figure size 432x288 with 1 Axes>"
      ]
     },
     "metadata": {
      "needs_background": "light"
     },
     "output_type": "display_data"
    }
   ],
   "source": [
    "#Clyde Sea Area Temp(C) vs. Years [1997-2013]  \n",
    "sea_dfs[0].cumsum()\n",
    "sea_dfs[0].plot(x=\"Decimal Year\", y=\"Monthly_Average_Sea_Surface_Temperature_degrees_C\")"
   ]
  },
  {
   "cell_type": "code",
   "execution_count": 7,
   "metadata": {},
   "outputs": [
    {
     "data": {
      "text/plain": [
       "count    204.000000\n",
       "mean      11.071029\n",
       "std        2.818286\n",
       "min        6.090000\n",
       "25%        8.350000\n",
       "50%       11.090000\n",
       "75%       13.827500\n",
       "max       15.520000\n",
       "Name: Monthly_Average_Sea_Surface_Temperature_degrees_C, dtype: float64"
      ]
     },
     "execution_count": 7,
     "metadata": {},
     "output_type": "execute_result"
    }
   ],
   "source": [
    "#Looking at Max/Min Sea Surface Temperatures in the Clyde Sea Area from 1997 - 2013 \n",
    "sea_dfs[0].Monthly_Average_Sea_Surface_Temperature_degrees_C.describe()"
   ]
  },
  {
   "cell_type": "code",
   "execution_count": null,
   "metadata": {},
   "outputs": [],
   "source": []
  },
  {
   "cell_type": "code",
   "execution_count": null,
   "metadata": {},
   "outputs": [],
   "source": []
  }
 ],
 "metadata": {
  "kernelspec": {
   "display_name": "Python 3",
   "language": "python",
   "name": "python3"
  },
  "language_info": {
   "codemirror_mode": {
    "name": "ipython",
    "version": 3
   },
   "file_extension": ".py",
   "mimetype": "text/x-python",
   "name": "python",
   "nbconvert_exporter": "python",
   "pygments_lexer": "ipython3",
   "version": "3.7.6"
  }
 },
 "nbformat": 4,
 "nbformat_minor": 4
}
